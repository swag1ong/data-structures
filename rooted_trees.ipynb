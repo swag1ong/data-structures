{
 "cells": [
  {
   "cell_type": "markdown",
   "metadata": {
    "collapsed": true,
    "pycharm": {
     "name": "#%% md\n"
    }
   },
   "source": [
    "# Rooted Trees\n",
    "\n",
    "## Binary tree\n",
    "\n",
    "A Binary tree node $X$ has four attributes:\n",
    "- Parent node: X.p = NIL $\\implies$ the node X is a root\n",
    "- Left node: X.left = NIL $\\implies$ the node X has no left child\n",
    "- Right node: X.right = NIL $\\implies$ the node X has no right child\n",
    "- Key\n",
    "\n",
    "*A Binary tree is a tree $T$ that consists of Binary tree node with at most two branches, it has attribute T.root,\n",
    "if T.root = NIL, $\\implies$ the Binary tree T is empty*\n",
    "\n",
    "## General Tree\n",
    "\n",
    "A Tree with number of children at each node at most k\n",
    "\n",
    "**Left child, right sibling representation**\n",
    "\n",
    "A node $X$ has four attributes:\n",
    "- Parent node:\n",
    "- left child: points to the left most child, if X.left_child = NIL, then X has no children\n",
    "- right sibling: points to the node immediately to the right of X, if X.right_sibling = NIL, then X is the right most\n",
    "node of its parent\n",
    "- Key\n",
    "\n"
   ]
  },
  {
   "cell_type": "code",
   "execution_count": 5,
   "outputs": [],
   "source": [
    "import import_ipynb\n",
    "from linked_list import LinkedListStack\n",
    "\n",
    "class Tree:\n",
    "\n",
    "    def __init__(self, tree=None):\n",
    "\n",
    "        self.root = tree\n",
    "\n",
    "\n",
    "class BinaryTreeNode:\n",
    "\n",
    "    def __init__(self, key=None, parent=None, left_child=None, right_child=None):\n",
    "\n",
    "        self.key = key\n",
    "        self.parent = parent\n",
    "        self.left_child = left_child\n",
    "        self.right_child = right_child\n",
    "\n",
    "class GeneralTreeNode:\n",
    "\n",
    "    def __init__(self, key=None, parent=None, left_child=None, right_sibling=None):\n",
    "\n",
    "        self.key = key\n",
    "        self.parent = parent\n",
    "        self.left_child = left_child\n",
    "        self.right_sibling = right_sibling\n",
    "\n",
    "class BinaryTree(Tree):\n",
    "\n",
    "    def __init__(self, root=None):\n",
    "\n",
    "        super().__init__(root)\n",
    "\n",
    "    #10.4-2\n",
    "    def recur_print(self, tree):\n",
    "\n",
    "        if not tree.left_child and not tree.right_child:\n",
    "\n",
    "            print(tree.key)\n",
    "\n",
    "        else:\n",
    "\n",
    "            if tree.left_child:\n",
    "                self.recur_print(tree.left_child)\n",
    "\n",
    "            if tree.right_child:\n",
    "                self.recur_print(tree.right_child)\n",
    "\n",
    "            print(tree.key)\n",
    "\n",
    "    # 10.4-3\n",
    "    def non_recur_print(self):\n",
    "\n",
    "        stack = LinkedListStack()\n",
    "\n",
    "        if self.root:\n",
    "            stack.push(self.root)\n",
    "\n",
    "        while not stack.is_empty():\n",
    "\n",
    "            curr_node = stack.pop()\n",
    "\n",
    "            if curr_node.left_child:\n",
    "                stack.push(curr_node.left_child)\n",
    "\n",
    "            if curr_node.right_child:\n",
    "                stack.push(curr_node.right_child)\n",
    "\n",
    "            print(curr_node.key)\n",
    "\n",
    "class GeneralTree(Tree):\n",
    "\n",
    "    def __init__(self, root=None):\n",
    "\n",
    "        super().__init__(root)\n",
    "\n",
    "    # 10.4-4\n",
    "    def non_recur_print(self):\n",
    "\n",
    "        stack = LinkedListStack()\n",
    "\n",
    "        if self.root:\n",
    "            stack.push(self.root)\n",
    "\n",
    "        while not stack.is_empty():\n",
    "\n",
    "            curr_node = stack.pop()\n",
    "\n",
    "            if curr_node.left_child:\n",
    "                stack.push(curr_node.left_child)\n",
    "\n",
    "            if curr_node.right_sibling:\n",
    "                stack.push(curr_node.right_sibling)\n",
    "\n",
    "            print(curr_node.key)\n",
    "\n"
   ],
   "metadata": {
    "collapsed": false,
    "pycharm": {
     "name": "#%%\n"
    }
   }
  },
  {
   "cell_type": "code",
   "execution_count": 6,
   "outputs": [
    {
     "name": "stdout",
     "output_type": "stream",
     "text": [
      "1\n",
      "2\n",
      "3\n",
      "4\n",
      "5\n"
     ]
    }
   ],
   "source": [
    "a = GeneralTreeNode(key=1)\n",
    "b = GeneralTreeNode(key=2)\n",
    "c = GeneralTreeNode(key=3)\n",
    "d = GeneralTreeNode(key=4)\n",
    "e = GeneralTreeNode(key=5)\n",
    "\n",
    "a.left_child = b\n",
    "b.right_sibling = c\n",
    "c.right_sibling = d\n",
    "d.left_child = e\n",
    "\n",
    "general_tree = GeneralTree(a)\n",
    "general_tree.non_recur_print()"
   ],
   "metadata": {
    "collapsed": false,
    "pycharm": {
     "name": "#%%\n"
    }
   }
  },
  {
   "cell_type": "code",
   "execution_count": null,
   "outputs": [],
   "source": [],
   "metadata": {
    "collapsed": false,
    "pycharm": {
     "name": "#%%\n"
    }
   }
  }
 ],
 "metadata": {
  "kernelspec": {
   "display_name": "Python 3",
   "language": "python",
   "name": "python3"
  },
  "language_info": {
   "codemirror_mode": {
    "name": "ipython",
    "version": 2
   },
   "file_extension": ".py",
   "mimetype": "text/x-python",
   "name": "python",
   "nbconvert_exporter": "python",
   "pygments_lexer": "ipython2",
   "version": "2.7.6"
  }
 },
 "nbformat": 4,
 "nbformat_minor": 0
}