{
 "cells": [
  {
   "cell_type": "markdown",
   "metadata": {
    "collapsed": true,
    "pycharm": {
     "name": "#%% md\n"
    }
   },
   "source": [
    "# Linked List\n",
    "\n",
    "## Simple Introduction\n",
    "\n",
    "\n",
    "### What is linked list\n",
    "__A single linked list node X contains 3 parts__:\n",
    "- X.key\n",
    "- X.prev, X.prev points to its predecessor, if X.prev = NIL $\\implies$ X.prev has no predecessor, therefore it is the\n",
    "head of the linked list\n",
    "- X.next, X.next points to its successor, if X.next = NIL $\\implies$ X.next has no successor, therefore it is the\n",
    "tail of the linked list\n",
    "\n",
    "*For the whole linked list L, the attribute L.head is pointing to the first linked list node X, if L.head is NIL,\n",
    "then the linked list L is empty*\n",
    "\n",
    "### Different forms of linked list\n",
    "- **Single linked**, we ignore X.prev\n",
    "- **Double linked**\n",
    "- **Sorted**, the linear order of the list corresponds to the linear order of keys stored in elements of the list the\n",
    "**minimum** element is then the head of the list, and the **maximum** element is the tail of the list.\n",
    "- **Circular**, the pre pointer of the head of the list points to the tail, and the next pointer of\n",
    "the tail of the list points to the head.\n",
    "\n",
    "### Cost Complexity of methods\n",
    "- **List_search**, $\\Theta(n)$ in the worst case, since it may have to search the entire list\n",
    "- **Insert**, insert a node into front of list,  $\\Theta(1)$\n",
    "- **Delete**, remove a node or a key from the list, if remove a node, then it only takes $\\Theta(1)$, if remove a key,\n",
    "it must first search the node in the list, therefore $\\Theta(n)$"
   ]
  },
  {
   "cell_type": "code",
   "execution_count": 2,
   "metadata": {
    "pycharm": {
     "name": "#%%\n"
    }
   },
   "outputs": [],
   "source": [
    "# Assume doubly linked with no order and not circular\n",
    "\n",
    "class LinkedListNode:\n",
    "\n",
    "    def __init__(self, key, prev=None, nxt=None):\n",
    "\n",
    "        self.key = key\n",
    "        self.prev = prev\n",
    "        self.next = nxt\n",
    "\n",
    "    def __repr__(self):\n",
    "\n",
    "        return f'{self.key}'\n",
    "\n",
    "class DoubleLinkedList:\n",
    "\n",
    "    def __init__(self):\n",
    "\n",
    "        self.head = None\n",
    "\n",
    "    def search(self, key):\n",
    "\n",
    "        curr_node = self.head\n",
    "\n",
    "        while curr_node is not None and curr_node.key != key:\n",
    "\n",
    "            curr_node = curr_node.next\n",
    "\n",
    "        return curr_node\n",
    "\n",
    "    def insert(self, node):\n",
    "\n",
    "        node.next = self.head\n",
    "\n",
    "        if self.head:\n",
    "            self.head.prev = node\n",
    "\n",
    "        self.head = node\n",
    "        node.prev = None\n",
    "\n",
    "    def remove(self, key_node):\n",
    "        \"\"\"\n",
    "\n",
    "        :param key_node: can be a key or a linkedListNode\n",
    "        :return:\n",
    "        \"\"\"\n",
    "\n",
    "        if isinstance(key_node, LinkedListNode):\n",
    "            curr_node = key_node\n",
    "        else:\n",
    "            curr_node = self.search(key_node)\n",
    "\n",
    "        if curr_node.prev is not None:\n",
    "            curr_node.prev.next = curr_node.next\n",
    "\n",
    "        else:\n",
    "            self.head = curr_node.next\n",
    "\n",
    "        if curr_node.next is not None:\n",
    "            curr_node.next.prev = curr_node.prev\n",
    "\n",
    "\n"
   ]
  },
  {
   "cell_type": "markdown",
   "metadata": {
    "pycharm": {
     "name": "#%% md\n"
    }
   },
   "source": [
    "## Implement Stack and Queue Using LinkedList\n",
    "\n",
    "- Pop and Push takes $\\Theta(1)$\n",
    "\n"
   ]
  },
  {
   "cell_type": "code",
   "execution_count": 3,
   "outputs": [],
   "source": [
    "from stacksqueues import CustomContainer\n",
    "\n",
    "\n",
    "class LinkedListStack(CustomContainer):\n",
    "\n",
    "    def __init__(self):\n",
    "\n",
    "        self.head = None\n",
    "\n",
    "    def push(self, value):\n",
    "\n",
    "        new_node = LinkedListNode(value)\n",
    "        new_node.next = self.head\n",
    "        self.head = new_node\n",
    "\n",
    "    def pop(self):\n",
    "\n",
    "        if self.is_empty():\n",
    "            raise ValueError('the stack is empty, can not pop from a empty stack!')\n",
    "\n",
    "        else:\n",
    "            pop_value = self.head.key\n",
    "            self.head = self.head.next\n",
    "\n",
    "        return pop_value\n",
    "\n",
    "    def is_empty(self):\n",
    "\n",
    "        if self.head:\n",
    "            return False\n",
    "\n",
    "        else:\n",
    "            return True\n",
    "\n",
    "\n",
    "class LinkedListQueue(CustomContainer):\n",
    "\n",
    "    def __init__(self):\n",
    "\n",
    "        self.head = None\n",
    "        self.tail = None\n",
    "\n",
    "    def push(self, value):\n",
    "\n",
    "        new_node = LinkedListNode(value)\n",
    "\n",
    "        if not self.tail:\n",
    "\n",
    "            # self.tail = self.head = new_node, so when we change self.tail.next = 1, then self.head.next will be 1\n",
    "\n",
    "            self.tail = new_node\n",
    "            self.head = new_node\n",
    "\n",
    "        else:\n",
    "            self.tail.next = new_node\n",
    "            self.tail = new_node\n",
    "\n",
    "    def pop(self):\n",
    "\n",
    "        if self.is_empty():\n",
    "            raise ValueError('the queue is empty, can not pop from a empty queue!')\n",
    "\n",
    "        else:\n",
    "\n",
    "            pop_value = self.head.key\n",
    "            self.head = self.head.next\n",
    "\n",
    "            return pop_value\n",
    "\n",
    "    def is_empty(self):\n",
    "\n",
    "        if not self.head:\n",
    "            return True\n",
    "\n",
    "        else:\n",
    "            return False"
   ],
   "metadata": {
    "collapsed": false,
    "pycharm": {
     "name": "#%%\n"
    }
   }
  },
  {
   "cell_type": "code",
   "execution_count": 6,
   "outputs": [
    {
     "name": "stdout",
     "output_type": "stream",
     "text": [
      "1\n",
      "2\n",
      "3\n"
     ]
    }
   ],
   "source": [
    "q = LinkedListQueue()\n",
    "q.push(1)\n",
    "q.push(2)\n",
    "q.push(3)\n",
    "print(q.pop()) # 1\n",
    "print(q.pop()) # 2\n",
    "print(q.pop()) # 3\n"
   ],
   "metadata": {
    "collapsed": false,
    "pycharm": {
     "name": "#%%\n"
    }
   }
  },
  {
   "cell_type": "code",
   "execution_count": 7,
   "outputs": [
    {
     "name": "stdout",
     "output_type": "stream",
     "text": [
      "3\n",
      "2\n",
      "1\n"
     ]
    }
   ],
   "source": [
    "s = LinkedListStack()\n",
    "s.push(1)\n",
    "s.push(2)\n",
    "s.push(3)\n",
    "print(s.pop()) # 3\n",
    "print(s.pop()) # 2\n",
    "print(s.pop())# 1\n"
   ],
   "metadata": {
    "collapsed": false,
    "pycharm": {
     "name": "#%%\n"
    }
   }
  }
 ],
 "metadata": {
  "kernelspec": {
   "display_name": "Python 3",
   "language": "python",
   "name": "python3"
  },
  "language_info": {
   "codemirror_mode": {
    "name": "ipython",
    "version": 3
   },
   "file_extension": ".py",
   "mimetype": "text/x-python",
   "name": "python",
   "nbconvert_exporter": "python",
   "pygments_lexer": "ipython3",
   "version": "3.7.9"
  }
 },
 "nbformat": 4,
 "nbformat_minor": 1
}