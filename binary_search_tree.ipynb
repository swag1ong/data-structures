{
 "cells": [
  {
   "cell_type": "markdown",
   "metadata": {
    "collapsed": true,
    "pycharm": {
     "name": "#%% md\n"
    }
   },
   "source": [
    "# Binary Search Tree\n",
    "\n",
    "A binary search tree is a binary tree that satisfies a specific binary search tree property:\n",
    "\n",
    "*Let x be a node in a binary search tree. If y is a node in the left subtree\n",
    "of x, then y.key $\\leq$ x.key. If y is a node in the right subtree of x, then\n",
    "y.key $\\geq$ x.key.*\n",
    "\n",
    "A binary search tree node X has:\n",
    "1. Key: the value stored in X\n",
    "2. Right: right child of X\n",
    "3. Left: left child of X\n",
    "4. p: parent of X\n",
    "\n",
    "A binary search tree has a root node, the only node in binary search tree that has parent = NIL is the root node.\n",
    "\n",
    "\n",
    "**def in_order_walk(tree)**\n",
    "\n",
    "the method in order walk traverse the tree and prints the key of each node in order, from smallest to largest.\n",
    "it takes $\\Theta (n)$.\n",
    "\n",
    "**def pred_order_walk(tree)**\n",
    "\n",
    "the method pred walk traverse the tree and prints the key of each node before its children, it takes $\\Theta (n)$.\n",
    "\n",
    "\n",
    "**def post_order_walk(tree)**\n",
    "\n",
    "the method post walk traverse the tree and prints the key of each node after its children, it takes $\\Theta (n)$."
   ]
  },
  {
   "cell_type": "code",
   "execution_count": 19,
   "outputs": [],
   "source": [
    "import import_ipynb\n",
    "from rooted_trees import BinaryTreeNode, Tree\n",
    "\n",
    "class BSTNode(BinaryTreeNode):\n",
    "\n",
    "    def __init__(self, key=None, left=None, right=None, parent=None):\n",
    "\n",
    "        super().__init__(key, parent, left, right)\n",
    "\n",
    "\n",
    "class BinarySearchTree(Tree):\n",
    "\n",
    "    def __init__(self, root=None):\n",
    "\n",
    "        super().__init__(root)\n",
    "\n",
    "    def in_order_walk(self, tree):\n",
    "\n",
    "        if 'key' not in tree.__dict__:\n",
    "            tree = tree.root\n",
    "\n",
    "            print('performing in order walk')\n",
    "\n",
    "        if tree.left_child:\n",
    "            self.in_order_walk(tree.left_child)\n",
    "\n",
    "        print(tree.key)\n",
    "\n",
    "        if tree.right_child:\n",
    "            self.in_order_walk(tree.right_child)\n",
    "\n",
    "    def pre_order_walk(self, tree):\n",
    "\n",
    "        if 'key' not in tree.__dict__:\n",
    "            tree = tree.root\n",
    "\n",
    "            print('performing pre order walk')\n",
    "\n",
    "        print(tree.key)\n",
    "\n",
    "        if tree.left_child:\n",
    "            self.pre_order_walk(tree.left_child)\n",
    "\n",
    "        if tree.right_child:\n",
    "            self.pre_order_walk(tree.right_child)\n",
    "\n",
    "    def post_order_walk(self, tree):\n",
    "\n",
    "        if 'key' not in tree.__dict__:\n",
    "            tree = tree.root\n",
    "\n",
    "            print('performing post order walk')\n",
    "\n",
    "        if tree.left_child:\n",
    "            self.post_order_walk(tree.left_child)\n",
    "\n",
    "        if tree.right_child:\n",
    "            self.post_order_walk(tree.right_child)\n",
    "\n",
    "        print(tree.key)"
   ],
   "metadata": {
    "collapsed": false,
    "pycharm": {
     "name": "#%%\n"
    }
   }
  },
  {
   "cell_type": "markdown",
   "source": [
    "![title](BST.png)"
   ],
   "metadata": {
    "collapsed": false
   }
  },
  {
   "cell_type": "code",
   "execution_count": 20,
   "outputs": [
    {
     "name": "stdout",
     "output_type": "stream",
     "text": [
      "performing in order walk\n",
      "2\n",
      "5\n",
      "5\n",
      "6\n",
      "7\n",
      "8\n",
      "performing pre order walk\n",
      "6\n",
      "5\n",
      "2\n",
      "5\n",
      "7\n",
      "8\n",
      "performing post order walk\n",
      "2\n",
      "5\n",
      "5\n",
      "8\n",
      "7\n",
      "6\n"
     ]
    }
   ],
   "source": [
    "a = BSTNode(2)\n",
    "b = BSTNode(5)\n",
    "c = BSTNode(5)\n",
    "d = BSTNode(6)\n",
    "e = BSTNode(7)\n",
    "f = BSTNode(8)\n",
    "\n",
    "a.parent = c\n",
    "b.parent = c\n",
    "c.left_child = a\n",
    "c.right_child = b\n",
    "c.parent = d\n",
    "d.left_child = c\n",
    "d.right_child = e\n",
    "e.parent = d\n",
    "e.right_child = f\n",
    "f.parent = e\n",
    "\n",
    "bst = BinarySearchTree(d)\n",
    "bst.in_order_walk(bst)\n",
    "bst.pre_order_walk(bst)\n",
    "bst.post_order_walk(bst)"
   ],
   "metadata": {
    "collapsed": false,
    "pycharm": {
     "name": "#%%\n"
    }
   }
  }
 ],
 "metadata": {
  "kernelspec": {
   "display_name": "Python 3",
   "language": "python",
   "name": "python3"
  },
  "language_info": {
   "codemirror_mode": {
    "name": "ipython",
    "version": 2
   },
   "file_extension": ".py",
   "mimetype": "text/x-python",
   "name": "python",
   "nbconvert_exporter": "python",
   "pygments_lexer": "ipython2",
   "version": "2.7.6"
  }
 },
 "nbformat": 4,
 "nbformat_minor": 0
}